{
  "nbformat": 4,
  "nbformat_minor": 0,
  "metadata": {
    "colab": {
      "provenance": [],
      "authorship_tag": "ABX9TyNiW3cgoPr6LBkJfU9So77c",
      "include_colab_link": true
    },
    "kernelspec": {
      "name": "python3",
      "display_name": "Python 3"
    },
    "language_info": {
      "name": "python"
    }
  },
  "cells": [
    {
      "cell_type": "markdown",
      "metadata": {
        "id": "view-in-github",
        "colab_type": "text"
      },
      "source": [
        "<a href=\"https://colab.research.google.com/github/vsahu0621/vandana_python/blob/main/ECE_04_02_2023.ipynb\" target=\"_parent\"><img src=\"https://colab.research.google.com/assets/colab-badge.svg\" alt=\"Open In Colab\"/></a>"
      ]
    },
    {
      "cell_type": "code",
      "execution_count": 3,
      "metadata": {
        "colab": {
          "base_uri": "https://localhost:8080/"
        },
        "id": "sOSmGqyLsAg6",
        "outputId": "98696ee8-dcf5-41c6-dc69-5124b8de24af"
      },
      "outputs": [
        {
          "output_type": "stream",
          "name": "stdout",
          "text": [
            "a/b= 2.5\n",
            "a//b= 2\n",
            "a**b= 25\n",
            "a<b= False\n",
            "a>b= True\n"
          ]
        }
      ],
      "source": [
        "#Using Arithmatic Operators and Compaeision operators.\n",
        "a=5\n",
        "b=2\n",
        "print('a/b=',a/b)\n",
        "print('a//b=',a//b)\n",
        "print('a**b=',a**b)\n",
        "print('a<b=',a<b)\n",
        "print('a>b=',a>b)"
      ]
    },
    {
      "cell_type": "code",
      "source": [
        "#Using Logical Operators\n",
        "a=True\n",
        "print('not A=',not a)\n",
        "b=False\n",
        "print('not B=',not b)"
      ],
      "metadata": {
        "colab": {
          "base_uri": "https://localhost:8080/"
        },
        "id": "EdaHgwVdvMru",
        "outputId": "f5cf8487-067c-4ad3-becd-8cac250318ad"
      },
      "execution_count": 4,
      "outputs": [
        {
          "output_type": "stream",
          "name": "stdout",
          "text": [
            "not A= False\n",
            "not B= True\n"
          ]
        }
      ]
    },
    {
      "cell_type": "code",
      "source": [
        "#Using Bitwise OPerator\n",
        "a=2\n",
        "b=3\n",
        "c=a<<b\n",
        "print('a<<B=',c)"
      ],
      "metadata": {
        "colab": {
          "base_uri": "https://localhost:8080/"
        },
        "id": "P5w0x1Ehw2LD",
        "outputId": "29763ec3-1a0e-4486-8fd7-78a1d7e46080"
      },
      "execution_count": 6,
      "outputs": [
        {
          "output_type": "stream",
          "name": "stdout",
          "text": [
            "a<<B= 16\n"
          ]
        }
      ]
    },
    {
      "cell_type": "code",
      "source": [
        "#Using Bitwise operator\n",
        "a=2\n",
        "b=3\n",
        "c=a>>b\n",
        "print('a>>b=',c)"
      ],
      "metadata": {
        "colab": {
          "base_uri": "https://localhost:8080/"
        },
        "id": "rnMpxXdPw2GU",
        "outputId": "771347b1-fe66-4e24-b704-ab56c8cd00c7"
      },
      "execution_count": 10,
      "outputs": [
        {
          "output_type": "stream",
          "name": "stdout",
          "text": [
            "a>>b= 0\n"
          ]
        }
      ]
    },
    {
      "cell_type": "code",
      "source": [
        "#Using IDENTITY OPERATOR(is and is not)\n",
        "a=5\n",
        "b=5\n",
        "print('a is b',a is b)\n",
        "print('a is not b',a is not b)\n",
        "x='CSE'\n",
        "y='ECE'\n",
        "print('x is y',x is y)\n",
        "print('x is not y',x is not y)\n"
      ],
      "metadata": {
        "colab": {
          "base_uri": "https://localhost:8080/"
        },
        "id": "uyi-Jpgvycp_",
        "outputId": "a1ef4ae0-7833-44f4-8f88-4591b770a981"
      },
      "execution_count": 12,
      "outputs": [
        {
          "output_type": "stream",
          "name": "stdout",
          "text": [
            "a is b True\n",
            "a is not b False\n",
            "x is y False\n",
            "x is not y True\n"
          ]
        }
      ]
    },
    {
      "cell_type": "code",
      "source": [],
      "metadata": {
        "id": "8SQYF6Uw1-FF"
      },
      "execution_count": null,
      "outputs": []
    },
    {
      "cell_type": "code",
      "source": [
        "#Using Membership operator (in and not in)\n",
        "a='Hello ECE'\n",
        "print('A in a=',a in 'A')"
      ],
      "metadata": {
        "colab": {
          "base_uri": "https://localhost:8080/"
        },
        "id": "YOXP85Vtzk71",
        "outputId": "1e7ffde1-6938-44c8-921e-d7e7cd67bbe8"
      },
      "execution_count": 13,
      "outputs": [
        {
          "output_type": "stream",
          "name": "stdout",
          "text": [
            "A in a= False\n"
          ]
        }
      ]
    },
    {
      "cell_type": "code",
      "source": [
        "#using if and else statement\n",
        "num=int(input(\"enter the number\"))\n",
        "if num%2==0:\n",
        "  print(\"Number is even\")\n",
        "else:\n",
        "  print(\"Number is odd\")"
      ],
      "metadata": {
        "colab": {
          "base_uri": "https://localhost:8080/"
        },
        "id": "8HTMhrAV26i7",
        "outputId": "06ce2dbe-6b3b-4ed9-f3bd-0a0820dde003"
      },
      "execution_count": 20,
      "outputs": [
        {
          "output_type": "stream",
          "name": "stdout",
          "text": [
            "enter the number20\n",
            "Number is even\n"
          ]
        }
      ]
    },
    {
      "cell_type": "code",
      "source": [
        "#Using if..elif statement\n",
        "number=int(input(\"Enter the number?\"))\n",
        "if number==10:\n",
        "  print(\"number is equal to 10\")\n",
        "elif number==50:\n",
        "  print(\"number is equal to 50\")\n",
        "elif number==100:\n",
        "  print(\"number is equal to 100\")\n",
        "else:\n",
        "  print(\"number is not equal to 10,50 or 100\")"
      ],
      "metadata": {
        "colab": {
          "base_uri": "https://localhost:8080/"
        },
        "id": "-n8um6S34aq8",
        "outputId": "5aca7879-47b4-4abd-c1db-4ec1eea46b9b"
      },
      "execution_count": 21,
      "outputs": [
        {
          "output_type": "stream",
          "name": "stdout",
          "text": [
            "Enter the number?50\n",
            "number is equal to 50\n"
          ]
        }
      ]
    },
    {
      "cell_type": "code",
      "source": [],
      "metadata": {
        "id": "1wh2bl6S5qfL"
      },
      "execution_count": null,
      "outputs": []
    }
  ]
}