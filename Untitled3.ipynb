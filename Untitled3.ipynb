{
  "cells": [
    {
      "cell_type": "markdown",
      "metadata": {
        "id": "view-in-github",
        "colab_type": "text"
      },
      "source": [
        "<a href=\"https://colab.research.google.com/github/vsahu0621/vandana_python/blob/main/Untitled3.ipynb\" target=\"_parent\"><img src=\"https://colab.research.google.com/assets/colab-badge.svg\" alt=\"Open In Colab\"/></a>"
      ]
    },
    {
      "cell_type": "code",
      "execution_count": null,
      "metadata": {
        "colab": {
          "base_uri": "https://localhost:8080/",
          "height": 130
        },
        "id": "d0Zv57RLgWPq",
        "outputId": "8cfe3ae7-cb23-4f75-9a1c-379fbd5bad40"
      },
      "outputs": [
        {
          "ename": "SyntaxError",
          "evalue": "ignored",
          "output_type": "error",
          "traceback": [
            "\u001b[0;36m  File \u001b[0;32m\"<ipython-input-2-1747e482245a>\"\u001b[0;36m, line \u001b[0;32m1\u001b[0m\n\u001b[0;31m    A company decided to give bonus of 5% to employee if his/her year of service is more than 5 years.Ask user for their salary and year of service and print the next bonus amounttt.\u001b[0m\n\u001b[0m      ^\u001b[0m\n\u001b[0;31mSyntaxError\u001b[0m\u001b[0;31m:\u001b[0m invalid syntax\n"
          ]
        }
      ],
      "source": [
        "A company decided to give bonus of 5% to employee if his/her year of service is more than 5 years.Ask user for their salary and year of service and print the next bonus amounttt."
      ]
    },
    {
      "cell_type": "code",
      "source": [],
      "metadata": {
        "id": "2-4hBVQdAwRN"
      },
      "execution_count": null,
      "outputs": []
    },
    {
      "cell_type": "markdown",
      "metadata": {
        "id": "AejPsPiRm94t"
      },
      "source": [
        "**bold text**"
      ]
    },
    {
      "cell_type": "markdown",
      "metadata": {
        "id": "PUK46HAsnBKJ"
      },
      "source": []
    },
    {
      "cell_type": "code",
      "execution_count": null,
      "metadata": {
        "colab": {
          "base_uri": "https://localhost:8080/"
        },
        "id": "IRDqmJNJh3Xx",
        "outputId": "cd731e4f-c68b-4f14-a8ce-13320700e5d3"
      },
      "outputs": [
        {
          "name": "stdout",
          "output_type": "stream",
          "text": [
            "Enter your salary:2500\n",
            "Enter Years of service:5\n",
            "You are not eligible for bonus as you have less service years.\n"
          ]
        }
      ],
      "source": [
        "salary = eval(input(\"Enter your salary:\"))\n",
        "\n",
        "service_yrs = eval(input(\"Enter Years of service:\"))\n",
        "\n",
        "if service_yrs > 5:\n",
        "\n",
        "    print(\"Yours salary(+Bonus) = \",salary + (salary)*5/100)\n",
        "\n",
        "else:\n",
        "\n",
        "     print(\"You are not eligible for bonus as you have less service years.\")"
      ]
    },
    {
      "cell_type": "markdown",
      "metadata": {
        "id": "dCAQFn8jnEC1"
      },
      "source": []
    },
    {
      "cell_type": "markdown",
      "metadata": {
        "id": "f2DNA80jm4Hj"
      },
      "source": []
    },
    {
      "cell_type": "markdown",
      "metadata": {
        "id": "Q4J2iAhFhGPH"
      },
      "source": [
        "2. Take values of length and breath of a rectangle from user and check if it squar or not"
      ]
    },
    {
      "cell_type": "code",
      "execution_count": null,
      "metadata": {
        "colab": {
          "base_uri": "https://localhost:8080/"
        },
        "id": "bjBQVGACnewP",
        "outputId": "934cae55-640d-4e3b-c7cd-742e233b90f5"
      },
      "outputs": [
        {
          "name": "stdout",
          "output_type": "stream",
          "text": [
            "enter the length of the figure60\n",
            "enter the breadth of the figure30\n",
            "the figure is not a square\n"
          ]
        }
      ],
      "source": [
        "a=int(input(\"enter the length of the figure\"))\n",
        "\n",
        "b=int(input(\"enter the breadth of the figure\"))\n",
        "\n",
        "if a==b:\n",
        "\n",
        "  print(\"the figure is a square\")\n",
        "\n",
        "else:\n",
        "\n",
        "  print(\"the figure is not a square\")"
      ]
    },
    {
      "cell_type": "markdown",
      "metadata": {
        "id": "ZtCOJnmEqxBs"
      },
      "source": [
        "3.Take two int values from user and print greatest among them"
      ]
    },
    {
      "cell_type": "code",
      "execution_count": null,
      "metadata": {
        "colab": {
          "base_uri": "https://localhost:8080/"
        },
        "id": "1MjCvyi6rkkW",
        "outputId": "88cd789f-2ef6-43c6-8d83-67cbf6b581cf"
      },
      "outputs": [
        {
          "name": "stdout",
          "output_type": "stream",
          "text": [
            "Enter the first number: 90\n",
            "Enter the second number: 100\n",
            "100 is greater\n"
          ]
        }
      ],
      "source": [
        "a = int(input(\"Enter the first number: \"))\n",
        "b = int(input(\"Enter the second number: \"))\n",
        "if(a - b > 0):\n",
        "  print(a, \"is greater\")\n",
        "else:\n",
        "  print(b, \"is greater\") "
      ]
    },
    {
      "cell_type": "markdown",
      "metadata": {
        "id": "bzyQtA8jxSgK"
      },
      "source": [
        "4.A shop will give discount of 10% if the cost of purchased qiantity is more than 1000. Ask user for quantity suppose,on unit will cost 100.judge and print total cost for user"
      ]
    },
    {
      "cell_type": "code",
      "execution_count": null,
      "metadata": {
        "colab": {
          "background_save": true,
          "base_uri": "https://localhost:8080/"
        },
        "id": "1-oz4FFhyGTk",
        "outputId": "972b520e-9a2c-4784-9c09-34fdb9f2d727"
      },
      "outputs": [
        {
          "name": "stdout",
          "output_type": "stream",
          "text": [
            "Enter quantity\n"
          ]
        }
      ],
      "source": [
        "print (\"Enter quantity\");\n",
        "quantity=input()\n",
        "if quantity*100>1000:\n",
        " print(\"cost is\",(quantity*100)-(.1*quantity*100));\n",
        "else:\n",
        "  print(\"cost is\",quantity*100);\n",
        "\n",
        "\n",
        "\n",
        "\n",
        "\n"
      ]
    },
    {
      "cell_type": "markdown",
      "metadata": {
        "id": "V9J2ZwgvOVC9"
      },
      "source": [
        "5.A school has following rules for grading system\n",
        "a.Below 25-F\n",
        "b.25 to 45-E\n",
        "c.45 to 50-D\n",
        "d.50 to 60-C\n",
        "e.60 to 80-B\n",
        "f.Above 80-A"
      ]
    },
    {
      "cell_type": "code",
      "execution_count": null,
      "metadata": {
        "id": "3KWAd2JnPhK0",
        "colab": {
          "base_uri": "https://localhost:8080/"
        },
        "outputId": "32370298-f659-497f-865d-40c0f0e83c57"
      },
      "outputs": [
        {
          "output_type": "stream",
          "name": "stdout",
          "text": [
            "ENTER YOUR MARKS =90\n",
            "your grade is A\n"
          ]
        }
      ],
      "source": [
        "#using only if statement\n",
        "marks=int(input('ENTER YOUR MARKS ='))\n",
        "if(marks<25):\n",
        "  print('your grade is f')\n",
        "if (2580):\n",
        "  print('your grade is A') \n",
        "  "
      ]
    },
    {
      "cell_type": "markdown",
      "source": [
        "6.Take input of age of 3 people by user and determine oldest and youngest among them."
      ],
      "metadata": {
        "id": "YxqRJ43RHzEv"
      }
    },
    {
      "cell_type": "code",
      "source": [
        "age1=int(input('enter age1: '))\n",
        "age2=int(input('enter age2: '))\n",
        "age3=int(input('enter age3: '))\n",
        "if age1>age2 and age1>age3:\n",
        "    print('age1 is oldest')\n",
        "elif age2>age1 and age2>age3:\n",
        "    print('age2 is oldest')\n",
        "else:\n",
        "    print('age3 is oldest')\n",
        "if age1<age2 and age1<age3:\n",
        "    print('age1 is youngest')\n",
        "elif age2<age1 and age2<age3:\n",
        "    print('age2 is youngest')\n",
        "else:\n",
        "     print('age3 is youngest')\n"
      ],
      "metadata": {
        "colab": {
          "base_uri": "https://localhost:8080/"
        },
        "id": "DYcjX7ENHnly",
        "outputId": "1ad1b348-479f-4e1a-9b43-a2eaec469951"
      },
      "execution_count": null,
      "outputs": [
        {
          "output_type": "stream",
          "name": "stdout",
          "text": [
            "enter age1: 35\n",
            "enter age2: 25\n",
            "enter age3: 21\n",
            "age1 is oldest\n",
            "age3 is youngest\n"
          ]
        }
      ]
    },
    {
      "cell_type": "markdown",
      "source": [
        "7.Write a program to print absolute value of a number entered by user.E.g- INPUT.1 OUTPUT.1,INPUT.-1 OUTPUT.1\n"
      ],
      "metadata": {
        "id": "TOrbA5H0JmlU"
      }
    },
    {
      "cell_type": "code",
      "source": [
        "x=float(input())\n",
        "x=abs(x)\n",
        "if(x%1.0):          \n",
        "    print(x)\n",
        "else:\n",
        "    print(int(x)) "
      ],
      "metadata": {
        "colab": {
          "base_uri": "https://localhost:8080/"
        },
        "id": "pswaiLo6KZK5",
        "outputId": "c85ff98a-5567-4a5c-ac1e-4fab83e8aac3"
      },
      "execution_count": null,
      "outputs": [
        {
          "output_type": "stream",
          "name": "stdout",
          "text": [
            "-1\n",
            "1\n"
          ]
        }
      ]
    },
    {
      "cell_type": "markdown",
      "source": [
        "8. A student will not be allowed to sit in exam if his/her attendence is less tha 75%. Take following input from user ,Number of classes held,Number of classes attended and print percentage of class attended IS student is allowed to sit in exam or not"
      ],
      "metadata": {
        "id": "LcqaAjiaLrnO"
      }
    },
    {
      "cell_type": "code",
      "source": [
        "a=int(input(\"Number of classes held\"))\n",
        "b=int(input(\"Number of classes attended:\"))\n",
        "percentage=b/a*100\n",
        "if percentage>=75:\n",
        "  print(\"The student is allowed to sit in the exam hall\")\n",
        "else:\n",
        "  print(\"The student is not allowed to sit in the exam hall\")  "
      ],
      "metadata": {
        "colab": {
          "base_uri": "https://localhost:8080/"
        },
        "id": "tNSDu1LyMzjw",
        "outputId": "d7e63a6d-adf7-4888-e120-03de6cbfd4fb"
      },
      "execution_count": null,
      "outputs": [
        {
          "output_type": "stream",
          "name": "stdout",
          "text": [
            "Number of classes held50\n",
            "Number of classes attended:40\n",
            "The student is allowed to sit in the exam hall\n"
          ]
        }
      ]
    },
    {
      "cell_type": "markdown",
      "source": [],
      "metadata": {
        "id": "2y_--nv_PxLl"
      }
    },
    {
      "cell_type": "markdown",
      "source": [
        "9.Traffic light:\n",
        "write a python program that will check for the following conditions: If the light is green-car is allowed to go,IF the light is yellow-car has to wait,If the light is red-car has to stop"
      ],
      "metadata": {
        "id": "JJP8mtHcPy75"
      }
    },
    {
      "cell_type": "code",
      "source": [
        "x = input(\"Enter value: \")\n",
        "stop_light = int(x)\n",
        "while True:\n",
        "    if stop_light >= 1 and stop_light < 10:\n",
        "        print('Green light')\n",
        "        stop_light += 1\n",
        "    elif stop_light < 20:\n",
        "        print('Yellow light')\n",
        "        stop_light += 1\n",
        "    elif stop_light < 30:\n",
        "        print(\"Red light\")\n",
        "        stop_light += 1\n",
        "    else:\n",
        "        stop_light = 0\n",
        "    break"
      ],
      "metadata": {
        "colab": {
          "base_uri": "https://localhost:8080/"
        },
        "id": "B0ETwp3HQngE",
        "outputId": "55369e71-ac38-4f66-a69d-ce61a7fd61b3"
      },
      "execution_count": null,
      "outputs": [
        {
          "output_type": "stream",
          "name": "stdout",
          "text": [
            "Enter value: 15\n",
            "Yellow light\n"
          ]
        }
      ]
    },
    {
      "cell_type": "markdown",
      "source": [
        "1. Write a program to revers an unteger in python"
      ],
      "metadata": {
        "id": "jFOAuEfmRkY8"
      }
    },
    {
      "cell_type": "code",
      "source": [
        "num = 1234\n",
        "reversed_num = 0\n",
        "\n",
        "while num != 0:\n",
        "    digit = num % 10\n",
        "    reversed_num = reversed_num * 10 + digit\n",
        "    num //= 10\n",
        "\n",
        "print(\"Reversed Number: \" + str(reversed_num))\n"
      ],
      "metadata": {
        "colab": {
          "base_uri": "https://localhost:8080/"
        },
        "id": "yXHJcR79MqPn",
        "outputId": "7915eb0a-b175-4e23-e46d-10a19ea7deed"
      },
      "execution_count": null,
      "outputs": [
        {
          "output_type": "stream",
          "name": "stdout",
          "text": [
            "Reversed Number: 4321\n"
          ]
        }
      ]
    },
    {
      "cell_type": "markdown",
      "source": [
        "2.Write a program in python to check whether an integer is Armstrong number or not."
      ],
      "metadata": {
        "id": "QAh0rJmESxYw"
      }
    },
    {
      "cell_type": "code",
      "source": [
        "# take input from the user\n",
        "num = int(input(\"Enter a number: \"))\n",
        "\n",
        "# initialize sum\n",
        "sum = 0\n",
        "\n",
        "# find the sum of the cube of each digit\n",
        "temp = num\n",
        "while temp > 0:\n",
        "   digit = temp % 10\n",
        "   sum += digit ** 3\n",
        "   temp //= 10\n",
        "\n",
        "# display the result\n",
        "if num == sum:\n",
        "   print(num,\"is an Armstrong number\")\n",
        "else:\n",
        "   print(num,\"is not an Armstrong number\")\n"
      ],
      "metadata": {
        "colab": {
          "base_uri": "https://localhost:8080/"
        },
        "id": "JxUYxDD9TNSI",
        "outputId": "daa49c5a-6e3a-4120-8f08-0cfb3faceb2c"
      },
      "execution_count": null,
      "outputs": [
        {
          "output_type": "stream",
          "name": "stdout",
          "text": [
            "Enter a number: 663\n",
            "663 is not an Armstrong number\n"
          ]
        }
      ]
    },
    {
      "cell_type": "markdown",
      "source": [
        "3.Write a program in python to check given number is prime or not"
      ],
      "metadata": {
        "id": "xFDHbn5-UEEj"
      }
    },
    {
      "cell_type": "code",
      "source": [
        "# Program to check if a number is prime or not\n",
        "\n",
        "num = 29\n",
        "\n",
        "# To take input from the user\n",
        "#num = int(input(\"Enter a number: \"))\n",
        "\n",
        "# define a flag variable\n",
        "flag = False\n",
        "\n",
        "if num == 1:\n",
        "    print(num, \"is not a prime number\")\n",
        "elif num > 1:\n",
        "    # check for factors\n",
        "    for i in range(2, num):\n",
        "        if (num % i) == 0:\n",
        "            # if factor is found, set flag to True\n",
        "            flag = True\n",
        "            # break out of loop\n",
        "            break\n",
        "\n",
        "    # check if flag is True\n",
        "    if flag:\n",
        "        print(num, \"is not a prime number\")\n",
        "    else:\n",
        "        print(num, \"is a prime number\")"
      ],
      "metadata": {
        "colab": {
          "base_uri": "https://localhost:8080/"
        },
        "id": "JL_Y7RdcVCV2",
        "outputId": "31f3c833-9d0d-4bd7-8ecc-201fa8acc4ee"
      },
      "execution_count": null,
      "outputs": [
        {
          "output_type": "stream",
          "name": "stdout",
          "text": [
            "29 is a prime number\n"
          ]
        }
      ]
    },
    {
      "cell_type": "markdown",
      "source": [
        "4.Write a program in python to print the fibonacci series using iterative method."
      ],
      "metadata": {
        "id": "uHT7dJszVmw8"
      }
    },
    {
      "cell_type": "code",
      "source": [
        "a = 0\n",
        "b = 1\n",
        "n=int(input(\"Enter the number of terms in the sequence: \"))\n",
        "print(a,b,end=\" \")\n",
        "while(n-2):\n",
        "    c=a+b\n",
        "    a,b = b,c\n",
        "    print(c,end=\" \")\n",
        "    n=n-1"
      ],
      "metadata": {
        "colab": {
          "base_uri": "https://localhost:8080/"
        },
        "id": "1JPLefmsWEb5",
        "outputId": "199621a9-cd6d-4b94-c247-da4fdc843468"
      },
      "execution_count": null,
      "outputs": [
        {
          "output_type": "stream",
          "name": "stdout",
          "text": [
            "Enter the number of terms in the sequence: 6\n",
            "0 1 1 2 3 5 "
          ]
        }
      ]
    },
    {
      "cell_type": "markdown",
      "source": [
        "5.Write a program in python to print the fibonacci series using recursive method"
      ],
      "metadata": {
        "id": "VoBb6fWAWd87"
      }
    },
    {
      "cell_type": "code",
      "source": [
        "# Python program to display the Fibonacci sequence\n",
        "\n",
        "def recur_fibo(n):\n",
        "   if n <= 1:\n",
        "       return n\n",
        "   else:\n",
        "       return(recur_fibo(n-1) + recur_fibo(n-2))\n",
        "\n",
        "nterms = 10\n",
        "\n",
        "# check if the number of terms is valid\n",
        "if nterms <= 0:\n",
        "   print(\"Plese enter a positive integer\")\n",
        "else:\n",
        "   print(\"Fibonacci sequence:\")\n",
        "   for i in range(nterms):\n",
        "       print(recur_fibo(i))\n"
      ],
      "metadata": {
        "colab": {
          "base_uri": "https://localhost:8080/"
        },
        "id": "61Zf7kMEW7MU",
        "outputId": "09ae556f-d847-441b-a603-ab591a00d723"
      },
      "execution_count": null,
      "outputs": [
        {
          "output_type": "stream",
          "name": "stdout",
          "text": [
            "Fibonacci sequence:\n",
            "0\n",
            "1\n",
            "1\n",
            "2\n",
            "3\n",
            "5\n",
            "8\n",
            "13\n",
            "21\n",
            "34\n"
          ]
        }
      ]
    },
    {
      "cell_type": "markdown",
      "source": [],
      "metadata": {
        "id": "uFcIgljkVkZe"
      }
    },
    {
      "cell_type": "markdown",
      "source": [
        "6.Write a program in python to check whether a number is palindrome or not using recursive method."
      ],
      "metadata": {
        "id": "8_QXBmosXMuM"
      }
    },
    {
      "cell_type": "code",
      "source": [
        "def is_palindrome(l,r,S):\n",
        "    if l>=r:\n",
        "        return True\n",
        "    if S[l] != S[r]:\n",
        "        return False\n",
        "    return is_palindrome(l+1,r-1,S)\n",
        "my_string = input('Enter your string: ')\n",
        "l = 0\n",
        "r = len(my_string)-1\n",
        "\n",
        "check = is_palindrome(l,r,my_string)\n",
        "\n",
        "if check:\n",
        "    print(f\"{my_string} is palindrome\")\n",
        "else:\n",
        "    print(f\"{my_string} is not palindrome\")"
      ],
      "metadata": {
        "colab": {
          "base_uri": "https://localhost:8080/"
        },
        "id": "TFB-14jlX7Y3",
        "outputId": "e6e2fd55-f698-4b7c-d519-7cd5286ff940"
      },
      "execution_count": null,
      "outputs": [
        {
          "output_type": "stream",
          "name": "stdout",
          "text": [
            "Enter your string: refer\n",
            "refer is palindrome\n"
          ]
        }
      ]
    },
    {
      "cell_type": "markdown",
      "source": [
        "7.Write a program in python to check whether a number is palindrome or not using iterative method"
      ],
      "metadata": {
        "id": "YYKwtvJEY3-u"
      }
    },
    {
      "cell_type": "code",
      "source": [
        "n = int(input(\"please give a number : \"))\n",
        "reverse,temp = 0,n\n",
        "while temp!=0:\n",
        "    reverse = reverse*10 + temp%10;        \n",
        "    temp=temp//10;\n",
        "if reverse==n:\n",
        "    print(\"number is palindrom\")\n",
        "else:\n",
        "    print(\"number is not palindrom\")\n",
        " "
      ],
      "metadata": {
        "colab": {
          "base_uri": "https://localhost:8080/"
        },
        "id": "TicU78ZIbsyC",
        "outputId": "4bd49397-7f97-4d0b-a8ac-3923bede7b63"
      },
      "execution_count": null,
      "outputs": [
        {
          "output_type": "stream",
          "name": "stdout",
          "text": [
            "please give a number : 5885\n",
            "number is palindrom\n"
          ]
        }
      ]
    },
    {
      "cell_type": "markdown",
      "source": [
        "8.Write a program in python to find greatest among three integers. "
      ],
      "metadata": {
        "id": "UXMes9TacjIx"
      }
    },
    {
      "cell_type": "code",
      "source": [
        "# Python program to find the largest number among the three input numbers\n",
        "\n",
        "# change the values of num1, num2 and num3\n",
        "# for a different result\n",
        "num1 = 10\n",
        "num2 = 14\n",
        "num3 = 12\n",
        "\n",
        "# uncomment following lines to take three numbers from user\n",
        "#num1 = float(input(\"Enter first number: \"))\n",
        "#num2 = float(input(\"Enter second number: \"))\n",
        "#num3 = float(input(\"Enter third number: \"))\n",
        "\n",
        "if (num1 >= num2) and (num1 >= num3):\n",
        "   largest = num1\n",
        "elif (num2 >= num1) and (num2 >= num3):\n",
        "   largest = num2\n",
        "else:\n",
        "   largest = num3\n",
        "\n",
        "print(\"The largest number is\", largest)"
      ],
      "metadata": {
        "colab": {
          "base_uri": "https://localhost:8080/"
        },
        "id": "DIagaC64gmZo",
        "outputId": "3db12f5b-c093-49a9-a050-04e66221ef99"
      },
      "execution_count": null,
      "outputs": [
        {
          "output_type": "stream",
          "name": "stdout",
          "text": [
            "The largest number is 14\n"
          ]
        }
      ]
    },
    {
      "cell_type": "markdown",
      "source": [],
      "metadata": {
        "id": "8w00GNM0hYEX"
      }
    },
    {
      "cell_type": "markdown",
      "source": [
        "9.Write a program in python to check if a number is binary?"
      ],
      "metadata": {
        "id": "NP1mengZUlYF"
      }
    },
    {
      "cell_type": "code",
      "source": [
        "#import library\n",
        "import re\n",
        "\n",
        "sampleInput = \"1001010\"\n",
        "\n",
        "# regular expression to find the strings\n",
        "# which have characters other than 0 and 1\n",
        "c = re.compile('[^01]')\n",
        "\n",
        "# use findall() to get the list of strings\n",
        "# that have characters other than 0 and 1.\n",
        "if(len(c.findall(sampleInput))):\n",
        "\tprint(\"No\") # if length of list > 0 then it is not binary\n",
        "else:\n",
        "\tprint(\"Yes\") # if length of list = 0 then it is binary\n"
      ],
      "metadata": {
        "colab": {
          "base_uri": "https://localhost:8080/"
        },
        "id": "c2BOSt0OU-Gw",
        "outputId": "73c8e915-ad2a-4b3c-d086-a3c0b126dc8f"
      },
      "execution_count": null,
      "outputs": [
        {
          "output_type": "stream",
          "name": "stdout",
          "text": [
            "Yes\n"
          ]
        }
      ]
    },
    {
      "cell_type": "markdown",
      "source": [
        "10. Write a program in python to find sum of digits of a number using recursion?"
      ],
      "metadata": {
        "id": "Y-HCjsRcYwnn"
      }
    },
    {
      "cell_type": "code",
      "source": [
        "def sum_of_digit( n ):\n",
        "\tif n == 0:\n",
        "\t\treturn 0\n",
        "\treturn (n % 10 + sum_of_digit(int(n / 10)))\n",
        "\n",
        "# Driven code to check above\n",
        "num = 12345\n",
        "result = sum_of_digit(num)\n",
        "print(\"Sum of digits in\",num,\"is\", result)\n",
        "\n",
        "\n",
        "\n"
      ],
      "metadata": {
        "colab": {
          "base_uri": "https://localhost:8080/"
        },
        "id": "jDLe4RZfZTSF",
        "outputId": "a03ab001-4bb0-4f21-a75c-9dc1981bee51"
      },
      "execution_count": null,
      "outputs": [
        {
          "output_type": "stream",
          "name": "stdout",
          "text": [
            "Sum of digits in 12345 is 15\n"
          ]
        }
      ]
    },
    {
      "cell_type": "markdown",
      "source": [
        "11.Write a program in python to swap two numbers without using third variable?"
      ],
      "metadata": {
        "id": "412wnIyDfFnS"
      }
    },
    {
      "cell_type": "code",
      "source": [
        "# Python code to swap two numbers\n",
        "# without using another variable\n",
        "\n",
        "\n",
        "x = 5\n",
        "y = 7\n",
        "\n",
        "print (\"Before swapping: \")\n",
        "print(\"Value of x : \", x, \" and y : \", y)\n",
        "\n",
        "# code to swap 'x' and 'y'\n",
        "x, y = y, x\n",
        "\n",
        "print (\"After swapping: \")\n",
        "print(\"Value of x : \", x, \" and y : \", y)\n"
      ],
      "metadata": {
        "id": "v-P6sgaYgEtY",
        "colab": {
          "base_uri": "https://localhost:8080/"
        },
        "outputId": "c6d97f3e-fdde-40dd-f861-e3acb0d2157d"
      },
      "execution_count": null,
      "outputs": [
        {
          "output_type": "stream",
          "name": "stdout",
          "text": [
            "Before swapping: \n",
            "Value of x :  5  and y :  7\n",
            "After swapping: \n",
            "Value of x :  7  and y :  5\n"
          ]
        }
      ]
    },
    {
      "cell_type": "markdown",
      "source": [
        "12.Write a program in python to find prime factors of a given integer"
      ],
      "metadata": {
        "id": "-hqu-XAjiXF_"
      }
    },
    {
      "cell_type": "code",
      "source": [
        "  Number = int(input(\" Please Enter any Number: \"))\n",
        "\n",
        "for i in range(2, Number + 1):\n",
        "    if(Number % i == 0):\n",
        "        isprime = 1\n",
        "        for j in range(2, (i //2 + 1)):\n",
        "            if(i % j == 0):\n",
        "                isprime = 0\n",
        "                break\n",
        "            \n",
        "        if (isprime == 1):\n",
        "            print(\" %d is a Prime Factor of a Given Number %d\" %(i, Number))"
      ],
      "metadata": {
        "colab": {
          "base_uri": "https://localhost:8080/"
        },
        "id": "f4-g1KGdivkG",
        "outputId": "c7835a66-6b7b-42bd-8130-11fd1a752863"
      },
      "execution_count": null,
      "outputs": [
        {
          "output_type": "stream",
          "name": "stdout",
          "text": [
            " Please Enter any Number: 20\n",
            " 2 is a Prime Factor of a Given Number 20\n",
            " 5 is a Prime Factor of a Given Number 20\n"
          ]
        }
      ]
    },
    {
      "cell_type": "markdown",
      "source": [
        "13.Write a program in python to find prime factors of a given integer"
      ],
      "metadata": {
        "id": "wC3In872kwGG"
      }
    },
    {
      "cell_type": "code",
      "source": [
        "n=int(input(\"Enter an integer:\"))\n",
        "print(\"Factors are:\")\n",
        "i=1\n",
        "while(i<=n):\n",
        "    k=0\n",
        "    if(n%i==0):\n",
        "        j=1\n",
        "        while(j<=i):\n",
        "            if(i%j==0):\n",
        "                k=k+1\n",
        "            j=j+1\n",
        "        if(k==2):\n",
        "            print(i)\n",
        "    i=i+1"
      ],
      "metadata": {
        "colab": {
          "base_uri": "https://localhost:8080/"
        },
        "id": "FSIAhtzDllWk",
        "outputId": "45f42dca-f526-4994-a528-90e1cb3cabb8"
      },
      "execution_count": null,
      "outputs": [
        {
          "output_type": "stream",
          "name": "stdout",
          "text": [
            "Enter an integer:9\n",
            "Factors are:\n",
            "3\n"
          ]
        }
      ]
    },
    {
      "cell_type": "markdown",
      "source": [
        "14. Write a  program in python to add two integer without using arithmetic operator?"
      ],
      "metadata": {
        "id": "vdHCSPtZKyxb"
      }
    },
    {
      "cell_type": "code",
      "source": [
        "# Python implementation\n",
        "def add(a, b):\n",
        "\t# for loop will start from 1 and move till the value of second number ,\n",
        "\t# first number(a) is incremented in for loop\n",
        "\tfor i in range(1, b + 1):\n",
        "\t\ta = a + 1\n",
        "\treturn a\n",
        "\n",
        "\n",
        "# driver code\n",
        "# first number is 10 and second number is 32 , for loop\n",
        "# will start from 1 and move till 32 and the value of a\n",
        "# is incremented 32 times which will give us the total\n",
        "# sum of two numbers\n",
        "a = add(10, 32)\n",
        "print(a)\n",
        "\n",
        "# This code is contributed by Aditya Kumar (adityakumar129)\n"
      ],
      "metadata": {
        "colab": {
          "base_uri": "https://localhost:8080/"
        },
        "id": "Ds6xYD6UM-ZI",
        "outputId": "6de15973-ff24-4a03-e1c1-d0dcf5a8afa0"
      },
      "execution_count": null,
      "outputs": [
        {
          "output_type": "stream",
          "name": "stdout",
          "text": [
            "42\n"
          ]
        }
      ]
    },
    {
      "cell_type": "markdown",
      "source": [
        "15.Write a program in python to find given number is perfect or not"
      ],
      "metadata": {
        "id": "zK036emdOV3b"
      }
    },
    {
      "cell_type": "code",
      "source": [
        " \n",
        "n = int(input(\"Enter any number: \"))\n",
        "sum1 = 0\n",
        "for i in range(1, n):\n",
        "    if(n % i == 0):\n",
        "        sum1 = sum1 + i\n",
        "if (sum1 == n):\n",
        "    print(\"The number is a Perfect number!\")\n",
        "else:\n",
        "    print(\"The number is not a Perfect number!\")"
      ],
      "metadata": {
        "colab": {
          "base_uri": "https://localhost:8080/"
        },
        "id": "KUd9abrqOn_S",
        "outputId": "14538eed-8a0d-4f30-a90f-2ed1184ea8c3"
      },
      "execution_count": null,
      "outputs": [
        {
          "output_type": "stream",
          "name": "stdout",
          "text": [
            "Enter any number: 9\n",
            "The number is not a Perfect number!\n"
          ]
        }
      ]
    },
    {
      "cell_type": "markdown",
      "source": [
        "**16.Python program to find the average of number of number with  explanations.**"
      ],
      "metadata": {
        "id": "GQFK6cDEPSpU"
      }
    },
    {
      "cell_type": "code",
      "source": [
        "n=int(input(\"Enter the number of elements to be inserted: \"))\n",
        "a=[]\n",
        "for i in range(0,n):\n",
        "    elem=int(input(\"Enter element: \"))\n",
        "    a.append(elem)\n",
        "avg=sum(a)/n\n",
        "print(\"Average of elements in the list\",round(avg,2))"
      ],
      "metadata": {
        "colab": {
          "base_uri": "https://localhost:8080/"
        },
        "id": "ylRCI5hwUUIV",
        "outputId": "bd939525-4c01-482d-ea75-82a6bc6bfb9f"
      },
      "execution_count": null,
      "outputs": [
        {
          "output_type": "stream",
          "name": "stdout",
          "text": [
            "Enter the number of elements to be inserted: 5\n",
            "Enter element: 6\n",
            "Enter element: 9\n",
            "Enter element: 11\n",
            "Enter element: 55\n",
            "Enter element: 43\n",
            "Average of elements in the list 24.8\n"
          ]
        }
      ]
    },
    {
      "cell_type": "markdown",
      "source": [
        "17.Python program to calculate factorial using iteratuve method."
      ],
      "metadata": {
        "id": "fTvQR0sNOTBM"
      }
    },
    {
      "cell_type": "code",
      "source": [
        "def get_factorial_for_loop(n):\n",
        "    result = 1\n",
        "    if n > 1:\n",
        "        for i in range(1, n+1):\n",
        "            result = result * i\n",
        "        return result\n",
        "    else:\n",
        "        return 'n has to be positive'"
      ],
      "metadata": {
        "id": "HLyc2O2AO1wc"
      },
      "execution_count": null,
      "outputs": []
    },
    {
      "cell_type": "markdown",
      "source": [
        "18.Python program to calculate factorial using recursion."
      ],
      "metadata": {
        "id": "M75hycIaPbk-"
      }
    },
    {
      "cell_type": "code",
      "source": [
        "# Factorial of a number using recursion\n",
        "\n",
        "def recur_factorial(n):\n",
        "   if n == 1:\n",
        "       return n\n",
        "   else:\n",
        "       return n*recur_factorial(n-1)\n",
        "\n",
        "num = 7\n",
        "\n",
        "# check if the number is negative\n",
        "if num < 0:\n",
        "   print(\"Sorry, factorial does not exist for negative numbers\")\n",
        "elif num == 0:\n",
        "   print(\"The factorial of 0 is 1\")\n",
        "else:\n",
        "   print(\"The factorial of\", num, \"is\", recur_factorial(num))\n"
      ],
      "metadata": {
        "colab": {
          "base_uri": "https://localhost:8080/"
        },
        "id": "0FOWa6vNOH92",
        "outputId": "13fb0274-c454-4d89-9383-0072526ed72e"
      },
      "execution_count": null,
      "outputs": [
        {
          "output_type": "stream",
          "name": "stdout",
          "text": [
            "The factorial of 7 is 5040\n"
          ]
        }
      ]
    },
    {
      "cell_type": "markdown",
      "source": [
        "19.Python program to cheCK A GIVEN NUMBER IS EVEN OR ODD"
      ],
      "metadata": {
        "id": "1ZYW2bQBR_XJ"
      }
    },
    {
      "cell_type": "code",
      "source": [
        "num = int(input(\"Enter a number: \"))\n",
        "if (num % 2) == 0:\n",
        "   print(\"{0} is Even\".format(num))\n",
        "else:\n",
        "   print(\"{0} is Odd\".format(num))\n"
      ],
      "metadata": {
        "colab": {
          "base_uri": "https://localhost:8080/"
        },
        "id": "qf-JfBPNQuQD",
        "outputId": "866760b4-b780-4242-a6c8-3fe84746c190"
      },
      "execution_count": null,
      "outputs": [
        {
          "output_type": "stream",
          "name": "stdout",
          "text": [
            "Enter a number: 43\n",
            "43 is Odd\n"
          ]
        }
      ]
    },
    {
      "cell_type": "markdown",
      "source": [
        "20.Python program to print first n prime number with explanation."
      ],
      "metadata": {
        "id": "er3ppsoATusd"
      }
    },
    {
      "cell_type": "code",
      "source": [
        "numr=int(input(\"Enter range:\"))\n",
        "\n",
        "print(\"Prime numbers:\",end=' ')\n",
        "\n",
        "for n in range(1,numr):\n",
        "\n",
        "    for i in range(2,n):\n",
        "\n",
        "        if(n%i==0):\n",
        "\n",
        "            break\n",
        "\n",
        "    else:\n",
        "\n",
        "        print(n,end=' ') "
      ],
      "metadata": {
        "id": "WbWT5aHcQVMV",
        "colab": {
          "base_uri": "https://localhost:8080/"
        },
        "outputId": "75cc29dd-46cd-4227-95b9-40229edd0a2e"
      },
      "execution_count": null,
      "outputs": [
        {
          "output_type": "stream",
          "name": "stdout",
          "text": [
            "Enter range:28\n",
            "Prime numbers: 1 2 3 5 7 11 13 17 19 23 "
          ]
        }
      ]
    },
    {
      "cell_type": "markdown",
      "source": [
        "21.Python program to print prime number in a given range. "
      ],
      "metadata": {
        "id": "U1ywozs3UXZ6"
      }
    },
    {
      "cell_type": "code",
      "source": [
        "r=int(input(\"Enter upper limit: \"))\n",
        "for a in range(2,r+1):\n",
        "    k=0\n",
        "    for i in range(2,a//2+1):\n",
        "        if(a%i==0):\n",
        "            k=k+1\n",
        "    if(k<=0):\n",
        "        print(a)"
      ],
      "metadata": {
        "colab": {
          "base_uri": "https://localhost:8080/"
        },
        "id": "W_dtbXxrUvfc",
        "outputId": "e356885d-f88f-468b-de75-357b1e181ea9"
      },
      "execution_count": null,
      "outputs": [
        {
          "output_type": "stream",
          "name": "stdout",
          "text": [
            "Enter upper limit: 50\n",
            "2\n",
            "3\n",
            "5\n",
            "7\n",
            "11\n",
            "13\n",
            "17\n",
            "19\n",
            "23\n",
            "29\n",
            "31\n",
            "37\n",
            "41\n",
            "43\n",
            "47\n"
          ]
        }
      ]
    },
    {
      "cell_type": "markdown",
      "source": [
        "22. Python program to find Smallest number among three."
      ],
      "metadata": {
        "id": "k64CeLijVBZf"
      }
    },
    {
      "cell_type": "code",
      "source": [
        "num1 = float(input(\"Enter first number: \"))\n",
        "num2 = float(input(\"Enter second number: \"))\n",
        "num3 = float(input(\"Enter third number: \"))\n",
        "\n",
        "smallest = num1\n",
        "if (num2 < num1) and (num2 < num3):\n",
        "    smallest = num2\n",
        "elif (num3 < num1):\n",
        "    smallest = num3\n",
        "\n",
        "print(\"The smallest number is\", smallest)\n"
      ],
      "metadata": {
        "colab": {
          "base_uri": "https://localhost:8080/"
        },
        "id": "MnjOksqAVRT0",
        "outputId": "5ca0f0c2-b4eb-43bc-e476-b7595daac234"
      },
      "execution_count": null,
      "outputs": [
        {
          "output_type": "stream",
          "name": "stdout",
          "text": [
            "Enter first number: 44\n",
            "Enter second number: 33\n",
            "Enter third number: 22\n",
            "The smallest number is 22.0\n"
          ]
        }
      ]
    },
    {
      "cell_type": "markdown",
      "source": [
        "23.Python program to calculate the power using pod method."
      ],
      "metadata": {
        "id": "70dhcWbXVofl"
      }
    },
    {
      "cell_type": "code",
      "source": [
        "import math\n",
        "\n",
        "base_number = float(input(\"Enter the base number\"))\n",
        "exponent = float(input(\"Enter the exponent\"))\n",
        "\n",
        "power = math.pow(base_number,exponent)\n",
        "print(\"Power is =\",power)"
      ],
      "metadata": {
        "id": "dCyXWWogV8pq",
        "colab": {
          "base_uri": "https://localhost:8080/"
        },
        "outputId": "9dc9b6cf-dd28-4f11-b63f-455121473534"
      },
      "execution_count": null,
      "outputs": [
        {
          "output_type": "stream",
          "name": "stdout",
          "text": [
            "Enter the base number2\n",
            "Enter the exponent4\n",
            "Power is = 16.0\n"
          ]
        }
      ]
    },
    {
      "cell_type": "markdown",
      "source": [
        "24.Python program to calculate the power without using POW method."
      ],
      "metadata": {
        "id": "ww_m1mcBcE89"
      }
    },
    {
      "cell_type": "code",
      "source": [
        "base = int(input('ENter base value: '))\n",
        "exponent = int(input('ENter exponent value: '))\n",
        "\n",
        "ans = base**exponent\n",
        "\n",
        "print(f'Answer is : {ans}')"
      ],
      "metadata": {
        "colab": {
          "base_uri": "https://localhost:8080/"
        },
        "id": "oeKCQ9pzcaG3",
        "outputId": "c200f310-099f-48f8-c275-0418ee35ff4d"
      },
      "execution_count": null,
      "outputs": [
        {
          "output_type": "stream",
          "name": "stdout",
          "text": [
            "ENter base value: 35\n",
            "ENter exponent value: 23\n",
            "Answer is : 326260892630588011062145233154296875\n"
          ]
        }
      ]
    },
    {
      "cell_type": "markdown",
      "source": [
        "25.Python program to calculate the power without using POD function."
      ],
      "metadata": {
        "id": "cpe_198mhR2H"
      }
    },
    {
      "cell_type": "code",
      "source": [
        "base = int(input('ENter base value: '))\n",
        "exponent = int(input('ENter exponent value: '))\n",
        "\n",
        "ans = base**exponent\n",
        "\n",
        "print(f'Answer is : {ans}')"
      ],
      "metadata": {
        "colab": {
          "base_uri": "https://localhost:8080/"
        },
        "id": "Bv51eMqMhy-i",
        "outputId": "7d61c97b-58d5-44ee-f195-20a7bf32bf0c"
      },
      "execution_count": null,
      "outputs": [
        {
          "output_type": "stream",
          "name": "stdout",
          "text": [
            "ENter base value: 28\n",
            "ENter exponent value: 12\n",
            "Answer is : 232218265089212416\n"
          ]
        }
      ]
    },
    {
      "cell_type": "markdown",
      "source": [
        "26.Python program to calculate the square of a given number."
      ],
      "metadata": {
        "id": "nuR-zuP0iji_"
      }
    },
    {
      "cell_type": "code",
      "source": [
        "# Declaring the number.\n",
        "n = 4\n",
        "\n",
        "# Finding square by multiplying them\n",
        "# with each other\n",
        "square = n * n\n",
        "\n",
        "# Printing square\n",
        "print(square)\n"
      ],
      "metadata": {
        "colab": {
          "base_uri": "https://localhost:8080/"
        },
        "id": "s2GNtO4li0cR",
        "outputId": "61712a5f-058f-4aff-daa1-397ce31074b5"
      },
      "execution_count": null,
      "outputs": [
        {
          "output_type": "stream",
          "name": "stdout",
          "text": [
            "16\n"
          ]
        }
      ]
    },
    {
      "cell_type": "markdown",
      "source": [
        "27.Python program to calculate the cube of a given number."
      ],
      "metadata": {
        "id": "z6NtJ34uj6E0"
      }
    },
    {
      "cell_type": "code",
      "source": [
        "# Python Program to Calculate Cube of a Number\n",
        "\n",
        "number = float(input(\" Please Enter any numeric Value : \"))\n",
        "\n",
        "cube = number * number * number\n",
        "\n",
        "print(\"The Cube of a Given Number {0}  = {1}\".format(number, cube))"
      ],
      "metadata": {
        "colab": {
          "base_uri": "https://localhost:8080/"
        },
        "id": "RoYqAqvUkxVB",
        "outputId": "5e826d34-2192-4790-be28-9545a5cfdee3"
      },
      "execution_count": null,
      "outputs": [
        {
          "output_type": "stream",
          "name": "stdout",
          "text": [
            " Please Enter any numeric Value : 5\n",
            "The Cube of a Given Number 5.0  = 125.0\n"
          ]
        }
      ]
    },
    {
      "cell_type": "markdown",
      "source": [
        "28.Python  program to calculate the square root of a given number."
      ],
      "metadata": {
        "id": "sQO8LpUllKIH"
      }
    },
    {
      "cell_type": "code",
      "source": [
        "# Python3 program to find floor(sqrt(x)\n",
        "\n",
        "# Returns floor of square root of x\n",
        "\n",
        "\n",
        "def floorSqrt(x):\n",
        "\n",
        "\t# Base cases\n",
        "\tif (x == 0 or x == 1):\n",
        "\t\treturn x\n",
        "\n",
        "\t# Starting from 1, try all numbers until\n",
        "\t# i*i is greater than or equal to x.\n",
        "\ti = 1\n",
        "\tresult = 1\n",
        "\twhile (result <= x):\n",
        "\n",
        "\t\ti += 1\n",
        "\t\tresult = i * i\n",
        "\n",
        "\treturn i - 1\n",
        "\n",
        "\n",
        "# Driver Code\n",
        "x = 11\n",
        "print(floorSqrt(x))\n"
      ],
      "metadata": {
        "colab": {
          "base_uri": "https://localhost:8080/"
        },
        "id": "fZNp4C6EncTJ",
        "outputId": "ffa0a09a-cb75-40c2-d8b5-155ebd080e30"
      },
      "execution_count": null,
      "outputs": [
        {
          "output_type": "stream",
          "name": "stdout",
          "text": [
            "3\n"
          ]
        }
      ]
    },
    {
      "cell_type": "markdown",
      "source": [
        "29 Python  program to calculate LCM of given two number."
      ],
      "metadata": {
        "id": "hjOITCH5oe4r"
      }
    },
    {
      "cell_type": "code",
      "source": [
        "num1 = 12\n",
        "num2 = 14\n",
        "for i in range(max(num1, num2), 1 + (num1 * num2)):\n",
        "    if i % num1 == i % num2 == 0:\n",
        "        lcm = i\n",
        "        break\n",
        "print(\"LCM of\", num1, \"and\", num2, \"is\", lcm)"
      ],
      "metadata": {
        "colab": {
          "base_uri": "https://localhost:8080/"
        },
        "id": "ij9u2LJcqO4T",
        "outputId": "30f7dbaa-b676-470d-eb1d-80148ad2b474"
      },
      "execution_count": null,
      "outputs": [
        {
          "output_type": "stream",
          "name": "stdout",
          "text": [
            "LCM of 12 and 14 is 84\n"
          ]
        }
      ]
    },
    {
      "cell_type": "markdown",
      "source": [
        "30.Python program to find GCD or HCF of two numbers."
      ],
      "metadata": {
        "id": "IHj12GULq0Gs"
      }
    },
    {
      "cell_type": "code",
      "source": [
        "num1 = 36\n",
        "num2 = 60\n",
        "hcf = 1\n",
        "\n",
        "for i in range(1, min(num1, num2)):\n",
        "    if num1 % i == 0 and num2 % i == 0:\n",
        "        hcf = i\n",
        "print(\"Hcf of\", num1, \"and\", num2, \"is\", hcf)"
      ],
      "metadata": {
        "colab": {
          "base_uri": "https://localhost:8080/"
        },
        "id": "O-7qN9YZsohp",
        "outputId": "bfa9ffa7-2c48-40ef-ade9-e87ea15fc4f5"
      },
      "execution_count": null,
      "outputs": [
        {
          "output_type": "stream",
          "name": "stdout",
          "text": [
            "Hcf of 36 and 60 is 12\n"
          ]
        }
      ]
    },
    {
      "cell_type": "markdown",
      "source": [
        "31.Python program to find GCD of two number using recursion"
      ],
      "metadata": {
        "id": "_xgIb80XtMKt"
      }
    },
    {
      "cell_type": "code",
      "source": [
        "def GCD(x,y):\n",
        "    r=x%y\n",
        "    if(r==0):\n",
        "        return y\n",
        "    else:\n",
        "        return GCD(y,r)\n",
        "n= int(input(\"Enter the first number :\"))\n",
        "m= int(input(\"Enter the second number :\"))\n",
        "print(\"The GCD of two numbers is:\", GCD(n,m))\n"
      ],
      "metadata": {
        "colab": {
          "base_uri": "https://localhost:8080/"
        },
        "id": "K0egUCV4tom0",
        "outputId": "2612dfad-ea48-4772-9a54-3670d35044b8"
      },
      "execution_count": null,
      "outputs": [
        {
          "output_type": "stream",
          "name": "stdout",
          "text": [
            "Enter the first number :8\n",
            "Enter the second number :2\n",
            "The GCD of two numbers is: 2\n"
          ]
        }
      ]
    },
    {
      "cell_type": "markdown",
      "source": [
        "32.python program to convert Decimal number into binary."
      ],
      "metadata": {
        "id": "hRAeiduGuOok"
      }
    },
    {
      "cell_type": "code",
      "source": [
        "# Function to convert decimal number\n",
        "# to binary using recursion\n",
        "def DecimalToBinary(num):\n",
        "\t\n",
        "\tif num >= 1:\n",
        "\t\tDecimalToBinary(num // 2)\n",
        "\tprint(num % 2, end = '')\n",
        "\n",
        "# Driver Code\n",
        "if __name__ == '__main__':\n",
        "\t\n",
        "\t# decimal value\n",
        "\tdec_val = 24\n",
        "\t\n",
        "\t# Calling function\n",
        "\tDecimalToBinary(dec_val)\n"
      ],
      "metadata": {
        "colab": {
          "base_uri": "https://localhost:8080/"
        },
        "id": "zoybkuk1ur3B",
        "outputId": "04e24319-7f97-4d44-fb19-d92460cd0950"
      },
      "execution_count": null,
      "outputs": [
        {
          "output_type": "stream",
          "name": "stdout",
          "text": [
            "011000"
          ]
        }
      ]
    },
    {
      "cell_type": "markdown",
      "source": [
        "33.Python program to convert decimal number to octal number"
      ],
      "metadata": {
        "id": "WfAGWZKtvoQF"
      }
    },
    {
      "cell_type": "code",
      "source": [
        "decimal = 148\n",
        "octal = []\n",
        "while decimal > 0:\n",
        "    r = decimal % 8\n",
        "    octal.append(r)\n",
        "    decimal = decimal // 8\n",
        "for i in reversed(octal):\n",
        "    print(i, end=\"\")"
      ],
      "metadata": {
        "colab": {
          "base_uri": "https://localhost:8080/"
        },
        "id": "bC36qcGKv7zd",
        "outputId": "d1e93fc8-703b-4edb-cfaf-ebd8dcdcc89f"
      },
      "execution_count": null,
      "outputs": [
        {
          "output_type": "stream",
          "name": "stdout",
          "text": [
            "224"
          ]
        }
      ]
    },
    {
      "cell_type": "markdown",
      "source": [
        "34.Python program to check the given year is a leap year or not"
      ],
      "metadata": {
        "id": "WK3DCUXwwYdL"
      }
    },
    {
      "cell_type": "code",
      "source": [
        "year = 2000\n",
        "if (year%400 == 0) or (year%4==0 and year%100!=0):\n",
        "  print(\"Leap Year\")\n",
        "else:\n",
        "  print(\"Not a Leap Year\")"
      ],
      "metadata": {
        "colab": {
          "base_uri": "https://localhost:8080/"
        },
        "id": "xuvYx8UcxFRa",
        "outputId": "b22e0fb2-b559-44b3-acbf-888e756ac241"
      },
      "execution_count": null,
      "outputs": [
        {
          "output_type": "stream",
          "name": "stdout",
          "text": [
            "Leap Year\n"
          ]
        }
      ]
    },
    {
      "cell_type": "markdown",
      "source": [
        "35.Python program to convert celsius to fahrenheit."
      ],
      "metadata": {
        "id": "4J5L2a4jxvt5"
      }
    },
    {
      "cell_type": "code",
      "source": [
        "# Temperature in celsius degree\n",
        "celsius = 40\n",
        "\n",
        "# Converting the temperature to\n",
        "# fehrenheit using the above\n",
        "# mentioned formula\n",
        "fahrenheit = (celsius * 1.8) + 32\n",
        "\n",
        "# printing the result\n",
        "print('%.2f Celsius is equivalent to: %.2f Fahrenheit'\n",
        "\t%(celsius, fahrenheit))\n"
      ],
      "metadata": {
        "colab": {
          "base_uri": "https://localhost:8080/"
        },
        "id": "NgGgIt_-yOAX",
        "outputId": "a2006b9d-74e1-4719-e30d-fd5a68fe26f8"
      },
      "execution_count": null,
      "outputs": [
        {
          "output_type": "stream",
          "name": "stdout",
          "text": [
            "40.00 Celsius is equivalent to: 104.00 Fahrenheit\n"
          ]
        }
      ]
    },
    {
      "cell_type": "markdown",
      "source": [
        "36.Python program to convert  fahrenheit to celsius"
      ],
      "metadata": {
        "id": "y09VlUUYy2VR"
      }
    },
    {
      "cell_type": "code",
      "source": [
        "# Define function to convert fahrenheit to celsius\n",
        "def ConvertFtoC(F):\n",
        "\n",
        "    # Convert the Fahrenheit into Celsius\n",
        "    C = (5 / 9) * (F - 32)\n",
        "\n",
        "    # Return the conversion value\n",
        "    return C\n",
        "\n",
        "# Take the Fahrenheit value from the user\n",
        "F = float(input(\"Enter the temperature in Fahrenheit: \"))\n",
        "\n",
        "# Print the Fahrenheit value\n",
        "print(\"Temperature in Fahrenheit = {:.2f}\".format(F))\n",
        "\n",
        "# Print the Celsius value\n",
        "print(\"Temperature in Celsius = {:.2f}\".format(ConvertFtoC(F)))"
      ],
      "metadata": {
        "colab": {
          "base_uri": "https://localhost:8080/"
        },
        "id": "Zn39VX2AzMJ4",
        "outputId": "c39b9515-7047-42d2-9305-4cd3ad343bb8"
      },
      "execution_count": null,
      "outputs": [
        {
          "output_type": "stream",
          "name": "stdout",
          "text": [
            "Enter the temperature in Fahrenheit: 4\n",
            "Temperature in Fahrenheit = 4.00\n",
            "Temperature in Celsius = -15.56\n"
          ]
        }
      ]
    },
    {
      "cell_type": "markdown",
      "source": [
        "37.Python program to calculate simple interest with explanation"
      ],
      "metadata": {
        "id": "JlOmVEZ_0Ht6"
      }
    },
    {
      "cell_type": "code",
      "source": [
        "def interest(p,y,s):\n",
        "  if(s=='yes'):\n",
        "    SI=int((p*y*14)/100)\n",
        "  else:\n",
        "    SI=int((p*y*10)/100)\n",
        "  return SI\n",
        "p=int(input(\"Enter the Amount :\"))\n",
        "y=int(input(\"Enter the number of years:\"))\n",
        "senior=input(\"Are you Senior Citizen (yes/no):\")\n",
        "print(\"Your Interest is :\",interest(p,y,senior))"
      ],
      "metadata": {
        "colab": {
          "base_uri": "https://localhost:8080/"
        },
        "id": "XUh2yvxA0mTL",
        "outputId": "2be60c11-8869-474d-b038-87f236a205e8"
      },
      "execution_count": null,
      "outputs": [
        {
          "output_type": "stream",
          "name": "stdout",
          "text": [
            "Enter the Amount :2000\n",
            "Enter the number of years:2005\n",
            "Are you Senior Citizen (yes/no):yes\n",
            "Your Interest is : 561400\n"
          ]
        }
      ]
    }
  ],
  "metadata": {
    "colab": {
      "provenance": [],
      "authorship_tag": "ABX9TyMwuCoVGZsgeVZ/NZfR+1Ha",
      "include_colab_link": true
    },
    "kernelspec": {
      "display_name": "Python 3",
      "name": "python3"
    },
    "language_info": {
      "name": "python"
    }
  },
  "nbformat": 4,
  "nbformat_minor": 0
}